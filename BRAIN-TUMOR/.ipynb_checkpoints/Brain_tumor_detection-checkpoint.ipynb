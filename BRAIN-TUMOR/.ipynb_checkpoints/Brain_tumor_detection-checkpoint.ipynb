{
 "cells": [
  {
   "cell_type": "code",
   "execution_count": 3,
   "id": "ae5002ea-8ac2-4fef-8344-cc6020296411",
   "metadata": {},
   "outputs": [],
   "source": [
    "import numpy as np\n",
    "import matplotlib.pyplot as plt\n",
    "import os\n",
    "import math\n",
    "import shutil\n",
    "import glob"
   ]
  },
  {
   "cell_type": "code",
   "execution_count": 8,
   "id": "70817d39-027f-440d-b97f-d49733b53db0",
   "metadata": {},
   "outputs": [],
   "source": [
    "# count no of images in respective classes 0- Brain tumor 1-Healthy\n",
    "ROOT_DIR=\"brain-tumor-classification-mri\"\n",
    "number_of_images = {}\n",
    "\n",
    "for dir in os.listdir(ROOT_DIR):\n",
    "    number_of_images[dir] = len(os.listdir(os.path.join(ROOT_DIR, dir)))"
   ]
  },
  {
   "cell_type": "code",
   "execution_count": 9,
   "id": "82e52105-ee84-4a0c-928f-d3e160d68e0b",
   "metadata": {},
   "outputs": [
    {
     "data": {
      "text/plain": [
       "dict_items([('Testing', 4), ('Training', 4)])"
      ]
     },
     "execution_count": 9,
     "metadata": {},
     "output_type": "execute_result"
    }
   ],
   "source": [
    "number_of_images.items()"
   ]
  },
  {
   "cell_type": "code",
   "execution_count": 11,
   "id": "e0bbb29f-41ea-4f94-9545-1eb3666f42fc",
   "metadata": {},
   "outputs": [
    {
     "data": {
      "text/plain": [
       "2"
      ]
     },
     "execution_count": 11,
     "metadata": {},
     "output_type": "execute_result"
    }
   ],
   "source": [
    "len(os.listdir(\"brain-tumor-classification-mri\"))"
   ]
  },
  {
   "cell_type": "markdown",
   "id": "7f5fb4d0-0c8a-4367-bc07-a840081c3000",
   "metadata": {},
   "source": [
    "## ALREADY THE DATA IS SPLITED FOR TRAINING AND TESTING\n",
    "## 70% TRAINING\n",
    "## 15% TESTING\n",
    "## 15%TESTING\n"
   ]
  },
  {
   "cell_type": "markdown",
   "id": "fe6c0609-8815-4ef6-ad3d-8400f5728299",
   "metadata": {},
   "source": [
    "## Model Building\n"
   ]
  },
  {
   "cell_type": "code",
   "execution_count": 12,
   "id": "a6fc15c3-1d0f-4051-8ab4-cebf0885ff62",
   "metadata": {},
   "outputs": [],
   "source": [
    "from keras.layers import Conv2D, MaxPool2D, Dropout, Flatten, Dense, BatchNormalization, GlobalAvgPool2D\n",
    "from keras.models import Sequential\n",
    "from keras.preprocessing.image import ImageDataGenerator\n",
    "import keras"
   ]
  },
  {
   "cell_type": "code",
   "execution_count": 13,
   "id": "68a08e8b-b768-4588-8906-50f65d47f776",
   "metadata": {},
   "outputs": [
    {
     "name": "stdout",
     "output_type": "stream",
     "text": [
      "Model: \"sequential_5\"\n",
      "_________________________________________________________________\n",
      " Layer (type)                Output Shape              Param #   \n",
      "=================================================================\n",
      " conv2d_16 (Conv2D)          (None, 224, 224, 16)      448       \n",
      "                                                                 \n",
      " conv2d_17 (Conv2D)          (None, 222, 222, 36)      5220      \n",
      "                                                                 \n",
      " max_pooling2d_11 (MaxPooli  (None, 111, 111, 36)      0         \n",
      " ng2D)                                                           \n",
      "                                                                 \n",
      " conv2d_18 (Conv2D)          (None, 109, 109, 64)      20800     \n",
      "                                                                 \n",
      " max_pooling2d_12 (MaxPooli  (None, 54, 54, 64)        0         \n",
      " ng2D)                                                           \n",
      "                                                                 \n",
      " conv2d_19 (Conv2D)          (None, 52, 52, 128)       73856     \n",
      "                                                                 \n",
      " max_pooling2d_13 (MaxPooli  (None, 26, 26, 128)       0         \n",
      " ng2D)                                                           \n",
      "                                                                 \n",
      " dropout_8 (Dropout)         (None, 26, 26, 128)       0         \n",
      "                                                                 \n",
      " flatten_4 (Flatten)         (None, 86528)             0         \n",
      "                                                                 \n",
      " dense_8 (Dense)             (None, 64)                5537856   \n",
      "                                                                 \n",
      " dropout_9 (Dropout)         (None, 64)                0         \n",
      "                                                                 \n",
      " dense_9 (Dense)             (None, 1)                 65        \n",
      "                                                                 \n",
      "=================================================================\n",
      "Total params: 5638245 (21.51 MB)\n",
      "Trainable params: 5638245 (21.51 MB)\n",
      "Non-trainable params: 0 (0.00 Byte)\n",
      "_________________________________________________________________\n"
     ]
    }
   ],
   "source": [
    "# CNN Model\n",
    "\n",
    "model= Sequential()\n",
    "model.add(Conv2D(filters= 16, kernel_size= (3,3), activation= 'relu', input_shape = (224,224,3), padding= 'same')) #First Layer of the model\n",
    "\n",
    "model.add(Conv2D(filters= 36, kernel_size= (3,3), activation= 'relu',)) #Second Layer of the model\n",
    "model.add(MaxPool2D(pool_size=(2,2)))\n",
    "\n",
    "model.add(Conv2D(filters= 64, kernel_size= (3,3), activation= 'relu',)) #Layer of the model\n",
    "model.add(MaxPool2D(pool_size=(2,2))) #third layer of the model\n",
    "\n",
    "model.add(Conv2D(filters= 128, kernel_size= (3,3), activation= 'relu',)) #Layer of the model\n",
    "model.add(MaxPool2D(pool_size=(2,2))) #Fourth layer of the model\n",
    "\n",
    "model.add(Dropout(rate=0.25))\n",
    "\n",
    "model.add(Flatten())\n",
    "model.add(Dense(units=64, activation='relu'))\n",
    "model.add(Dropout(rate=0.25))\n",
    "model.add(Dense(units=1, activation= 'sigmoid'))\n",
    "\n",
    "model.summary()"
   ]
  },
  {
   "cell_type": "code",
   "execution_count": null,
   "id": "c8772143-9e5b-423e-85bb-c74bbcff0461",
   "metadata": {},
   "outputs": [],
   "source": [
    "model.compile(optimizer='adam', loss=keras.losses.binary)"
   ]
  }
 ],
 "metadata": {
  "kernelspec": {
   "display_name": "Python 3 (ipykernel)",
   "language": "python",
   "name": "python3"
  },
  "language_info": {
   "codemirror_mode": {
    "name": "ipython",
    "version": 3
   },
   "file_extension": ".py",
   "mimetype": "text/x-python",
   "name": "python",
   "nbconvert_exporter": "python",
   "pygments_lexer": "ipython3",
   "version": "3.11.4"
  }
 },
 "nbformat": 4,
 "nbformat_minor": 5
}
